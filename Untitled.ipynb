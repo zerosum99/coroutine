{
 "cells": [
  {
   "cell_type": "code",
   "execution_count": 1,
   "metadata": {},
   "outputs": [],
   "source": [
    "%matplotlib inline\n",
    "\n",
    "import matplotlib.pyplot as plt\n",
    "import seaborn as sns\n",
    "\n",
    "import numpy as np"
   ]
  },
  {
   "cell_type": "code",
   "execution_count": 2,
   "metadata": {},
   "outputs": [],
   "source": [
    "length = 12 # 사다리의 길이\n",
    "width = 8 # 사다리의 너비(선택가능한 갯수)\n"
   ]
  },
  {
   "cell_type": "code",
   "execution_count": 3,
   "metadata": {},
   "outputs": [],
   "source": [
    "ladder = None # 사다리 배열\n",
    "pos = None # 진행 경과를 저장하기 위한 임시 배열"
   ]
  },
  {
   "cell_type": "code",
   "execution_count": 8,
   "metadata": {},
   "outputs": [],
   "source": [
    "# 가로 발판 위치를 랜덤하게 뽑아준다.\n",
    "def get_step(ladder, pos):\n",
    "    \n",
    "    width = int((ladder.shape[1] + 1) / 2)\n",
    "    randomized_step = random.randint(1, width - 1) * 2 - 1\n",
    "\n",
    "    if (randomized_step - 2 >= 1 and ladder[pos, randomized_step - 2] == 1) or \\\n",
    "            (randomized_step + 2 <= width * 2 - 3 and ladder[pos, randomized_step + 2] == 1):\n",
    "        print(\" aaa\")\n",
    "        return get_step(ladder, pos)\n",
    "    else:\n",
    "        return randomized_step"
   ]
  },
  {
   "cell_type": "code",
   "execution_count": 14,
   "metadata": {},
   "outputs": [
    {
     "data": {
      "text/plain": [
       "3"
      ]
     },
     "execution_count": 14,
     "metadata": {},
     "output_type": "execute_result"
    }
   ],
   "source": [
    "get_step(np.arange(27).reshape(3,9), 1)"
   ]
  },
  {
   "cell_type": "code",
   "execution_count": 5,
   "metadata": {},
   "outputs": [],
   "source": [
    "import random\n",
    "\n",
    "# 길이, 너비 만큼의 사다리를 생성한다.\n",
    "def make_ladder(length=10, width=10):\n",
    "    global ladder\n",
    "    ladder = np.zeros((length, width * 2 - 1), dtype=int)\n",
    "    global pos\n",
    "    pos = np.zeros(length, dtype=int)\n",
    "\n",
    "    # 가로 발판을 생성한다.\n",
    "    for i in range(1, length - 1):\n",
    "        ladder[i, get_step(ladder, i)] = 1\n",
    "#         ladder[i, get_step(ladder, i)] = 1\n",
    "#         ladder[i, get_step(ladder, i)] = 1"
   ]
  },
  {
   "cell_type": "code",
   "execution_count": null,
   "metadata": {},
   "outputs": [],
   "source": []
  }
 ],
 "metadata": {
  "kernelspec": {
   "display_name": "Python 3",
   "language": "python",
   "name": "python3"
  },
  "language_info": {
   "codemirror_mode": {
    "name": "ipython",
    "version": 3
   },
   "file_extension": ".py",
   "mimetype": "text/x-python",
   "name": "python",
   "nbconvert_exporter": "python",
   "pygments_lexer": "ipython3",
   "version": "3.7.3"
  }
 },
 "nbformat": 4,
 "nbformat_minor": 2
}
